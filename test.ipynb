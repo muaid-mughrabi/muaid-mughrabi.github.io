{
 "metadata": {
  "language_info": {
   "codemirror_mode": {
    "name": "ipython",
    "version": 3
   },
   "file_extension": ".py",
   "mimetype": "text/x-python",
   "name": "python",
   "nbconvert_exporter": "python",
   "pygments_lexer": "ipython3",
   "version": "3.6.4"
  },
  "orig_nbformat": 2,
  "kernelspec": {
   "name": "python364jvsc74a57bd04480e32245891b07b354378c7dbc380a1b3f17ee24171af64af582c25470e498",
   "display_name": "Python 3.6.4 64-bit ('base': conda)"
  }
 },
 "nbformat": 4,
 "nbformat_minor": 2,
 "cells": [
  {
   "cell_type": "code",
   "execution_count": 104,
   "metadata": {},
   "outputs": [],
   "source": [
    "#This script reads from skills.csv and outputs to table.txt in the same folder\n",
    "# Input: skills set [skill, score, group]\n",
    "# Output: skill tables based on group\n",
    "import pandas as pd\n",
    "import numpy as np\n",
    "import math"
   ]
  },
  {
   "cell_type": "code",
   "execution_count": 105,
   "metadata": {},
   "outputs": [],
   "source": [
    "data = pd.read_csv('.\\\\skills.csv')"
   ]
  },
  {
   "cell_type": "code",
   "execution_count": 106,
   "metadata": {},
   "outputs": [],
   "source": [
    "def compile_line(attribute_name, rating):\n",
    "    return f'| {attribute_name}      | {compile_rating(rating)}|'\n",
    "\n",
    "def compile_rating(rating):\n",
    "    half = '' if rating.is_integer() else ' ◧' \n",
    "    filled = \" ■\" * int(rating)\n",
    "    empty = \" ■\" * (5 - math.ceil(rating))\n",
    "    return f'<span class=\"rating filled\"> {filled} {half}  </span> <span class=\"rating\">  {empty} </span> '"
   ]
  },
  {
   "cell_type": "code",
   "execution_count": 107,
   "metadata": {},
   "outputs": [],
   "source": [
    "with open('./table.txt', mode='wt', encoding='utf-8') as table_file:\n",
    "\n",
    "    for group in data.groupby('group')['skill', 'score']:\n",
    "        group_name = group[0]\n",
    "        group_data = group[1]\n",
    "        \n",
    "        header = f'''| {group_name}        |               |\n",
    "| ------------- |-------------|\\n'''\n",
    "        \n",
    "        body = np.vectorize(compile_line)(group_data['skill'], group_data['score'])\n",
    "        table_file.write(header)\n",
    "        table_file.write('\\n'.join(body))\n",
    "        table_file.write('\\n\\n')\n",
    "    "
   ]
  },
  {
   "cell_type": "code",
   "execution_count": 80,
   "metadata": {},
   "outputs": [
    {
     "output_type": "execute_result",
     "data": {
      "text/plain": [
       "4"
      ]
     },
     "metadata": {},
     "execution_count": 80
    }
   ],
   "source": []
  },
  {
   "cell_type": "code",
   "execution_count": null,
   "metadata": {},
   "outputs": [],
   "source": []
  }
 ]
}